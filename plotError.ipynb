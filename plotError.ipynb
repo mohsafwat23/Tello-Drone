{
 "cells": [
  {
   "cell_type": "code",
   "execution_count": null,
   "source": [
    "import csv\n",
    "import matplotlib.pyplot as plt\n",
    "import numpy as np\n",
    "\n",
    "with open(\"ErrorInY.csv\", \"r\") as i:\n",
    "    rawdata = list(csv.reader(i,delimiter=\",\"))\n",
    "exampledata = np.array(rawdata[0:],dtype=float)\n",
    "\n",
    "t = exampledata[:,0]\n",
    "errorY = exampledata[:,1]\n",
    "actual = exampledata[:,2]\n",
    "\n",
    "plt.plot(t, errorY, label = \"Error in Y\")\n",
    "plt.plot(t, actual, label = \"Actual Y\")\n",
    "\n",
    "plt.xlabel('Time [s]')\n",
    "plt.ylabel('Displacement [px]')\n",
    "plt.title('Tuning PID for Y')\n",
    "plt.legend()\n",
    "plt.show()"
   ],
   "outputs": [],
   "metadata": {}
  },
  {
   "cell_type": "code",
   "execution_count": null,
   "source": [],
   "outputs": [],
   "metadata": {}
  }
 ],
 "metadata": {
  "orig_nbformat": 4,
  "language_info": {
   "name": "python"
  }
 },
 "nbformat": 4,
 "nbformat_minor": 2
}